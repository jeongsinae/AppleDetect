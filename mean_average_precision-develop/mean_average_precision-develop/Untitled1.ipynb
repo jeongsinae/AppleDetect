{
 "cells": [
  {
   "cell_type": "code",
   "execution_count": 1,
   "id": "24f742f5",
   "metadata": {},
   "outputs": [
    {
     "name": "stdout",
     "output_type": "stream",
     "text": [
      "[[  1 228   6 ...   0   0   0]\n",
      " [  5 228  28 ...   0   0   0]\n",
      " [ 30 238  46 ...   0   0   0]\n",
      " ...\n",
      " [331 849 356 ...   0   0   0]\n",
      " [162 888 177 ...   0   0   0]\n",
      " [559 398 595 ...   0   0   0]]\n",
      "['map_2d']\n",
      "VOC PASCAL mAP: 0.09090909361839294\n",
      "VOC PASCAL mAP in all points: 0.0904543399810791\n",
      "COCO mAP: 0.060415059328079224\n"
     ]
    }
   ],
   "source": [
    "%run AP.py"
   ]
  },
  {
   "cell_type": "code",
   "execution_count": 2,
   "id": "ed1462f0",
   "metadata": {},
   "outputs": [
    {
     "name": "stdout",
     "output_type": "stream",
     "text": [
      "[[  1 228   6 ...   0   0   0]\n",
      " [  5 228  28 ...   0   0   0]\n",
      " [ 30 238  46 ...   0   0   0]\n",
      " ...\n",
      " [331 849 356 ...   0   0   0]\n",
      " [162 888 177 ...   0   0   0]\n",
      " [559 398 595 ...   0   0   0]]\n",
      "['map_2d']\n",
      "VOC PASCAL mAP: 0.17680250108242035\n",
      "VOC PASCAL mAP in all points: 0.16317398846149445\n",
      "COCO mAP: 0.09940548986196518\n"
     ]
    }
   ],
   "source": [
    "%run AP.py"
   ]
  },
  {
   "cell_type": "raw",
   "id": "f151c28a",
   "metadata": {},
   "source": [
    "%run AP.py"
   ]
  },
  {
   "cell_type": "code",
   "execution_count": 3,
   "id": "c2a2c660",
   "metadata": {},
   "outputs": [
    {
     "name": "stdout",
     "output_type": "stream",
     "text": [
      "[[  1 228   6 ...   0   0   0]\n",
      " [  5 228  28 ...   0   0   0]\n",
      " [ 30 238  46 ...   0   0   0]\n",
      " ...\n",
      " [331 849 356 ...   0   0   0]\n",
      " [162 888 177 ...   0   0   0]\n",
      " [559 398 595 ...   0   0   0]]\n",
      "['map_2d']\n",
      "VOC PASCAL mAP: 0.2563813626766205\n",
      "VOC PASCAL mAP in all points: 0.2204628437757492\n",
      "COCO mAP: 0.13096767663955688\n"
     ]
    }
   ],
   "source": [
    "%run AP.py"
   ]
  },
  {
   "cell_type": "code",
   "execution_count": 4,
   "id": "1423851f",
   "metadata": {},
   "outputs": [
    {
     "name": "stdout",
     "output_type": "stream",
     "text": [
      "[[  1 228   6 ...   0   0   0]\n",
      " [  5 228  28 ...   0   0   0]\n",
      " [ 30 238  46 ...   0   0   0]\n",
      " ...\n",
      " [331 849 356 ...   0   0   0]\n",
      " [162 888 177 ...   0   0   0]\n",
      " [559 398 595 ...   0   0   0]]\n",
      "['map_2d']\n",
      "VOC PASCAL mAP: 0.4009687900543213\n",
      "VOC PASCAL mAP in all points: 0.3631379008293152\n",
      "COCO mAP: 0.2043725997209549\n"
     ]
    }
   ],
   "source": [
    "%run AP.py"
   ]
  },
  {
   "cell_type": "code",
   "execution_count": 5,
   "id": "825c509b",
   "metadata": {},
   "outputs": [
    {
     "name": "stdout",
     "output_type": "stream",
     "text": [
      "[[  1 228   6 ...   0   0   0]\n",
      " [  5 228  28 ...   0   0   0]\n",
      " [ 30 238  46 ...   0   0   0]\n",
      " ...\n",
      " [331 849 356 ...   0   0   0]\n",
      " [162 888 177 ...   0   0   0]\n",
      " [559 398 595 ...   0   0   0]]\n",
      "['map_2d']\n",
      "VOC PASCAL mAP: 0.40234217047691345\n",
      "VOC PASCAL mAP in all points: 0.40448978543281555\n",
      "COCO mAP: 0.22581259906291962\n"
     ]
    }
   ],
   "source": [
    "%run AP.py"
   ]
  },
  {
   "cell_type": "code",
   "execution_count": 6,
   "id": "733116e5",
   "metadata": {},
   "outputs": [
    {
     "name": "stdout",
     "output_type": "stream",
     "text": [
      "[[  1 228   6 ...   0   0   0]\n",
      " [  5 228  28 ...   0   0   0]\n",
      " [ 30 238  46 ...   0   0   0]\n",
      " ...\n",
      " [331 849 356 ...   0   0   0]\n",
      " [162 888 177 ...   0   0   0]\n",
      " [559 398 595 ...   0   0   0]]\n",
      "['map_2d']\n",
      "VOC PASCAL mAP: 0.4025617241859436\n",
      "VOC PASCAL mAP in all points: 0.41552937030792236\n",
      "COCO mAP: 0.23195931315422058\n"
     ]
    }
   ],
   "source": [
    "%run AP.py"
   ]
  },
  {
   "cell_type": "code",
   "execution_count": 7,
   "id": "4fd78367",
   "metadata": {},
   "outputs": [
    {
     "name": "stdout",
     "output_type": "stream",
     "text": [
      "[[  1 228   6 ...   0   0   0]\n",
      " [  5 228  28 ...   0   0   0]\n",
      " [ 30 238  46 ...   0   0   0]\n",
      " ...\n",
      " [331 849 356 ...   0   0   0]\n",
      " [162 888 177 ...   0   0   0]\n",
      " [559 398 595 ...   0   0   0]]\n",
      "['map_2d']\n",
      "VOC PASCAL mAP: 0.18113034963607788\n",
      "VOC PASCAL mAP in all points: 0.10480492562055588\n",
      "COCO mAP: 0.07310657948255539\n"
     ]
    }
   ],
   "source": [
    "%run AP.py"
   ]
  },
  {
   "cell_type": "code",
   "execution_count": 8,
   "id": "ccf37141",
   "metadata": {},
   "outputs": [
    {
     "name": "stdout",
     "output_type": "stream",
     "text": [
      "[[  1 228   6 ...   0   0   0]\n",
      " [  5 228  28 ...   0   0   0]\n",
      " [ 30 238  46 ...   0   0   0]\n",
      " ...\n",
      " [331 849 356 ...   0   0   0]\n",
      " [162 888 177 ...   0   0   0]\n",
      " [559 398 595 ...   0   0   0]]\n",
      "['map_2d']\n",
      "VOC PASCAL mAP: 0.26722651720046997\n",
      "VOC PASCAL mAP in all points: 0.19822993874549866\n",
      "COCO mAP: 0.1305074691772461\n"
     ]
    }
   ],
   "source": [
    "%run AP.py"
   ]
  },
  {
   "cell_type": "code",
   "execution_count": 9,
   "id": "2c940be4",
   "metadata": {},
   "outputs": [
    {
     "name": "stdout",
     "output_type": "stream",
     "text": [
      "[[  1 228   6 ...   0   0   0]\n",
      " [  5 228  28 ...   0   0   0]\n",
      " [ 30 238  46 ...   0   0   0]\n",
      " ...\n",
      " [331 849 356 ...   0   0   0]\n",
      " [162 888 177 ...   0   0   0]\n",
      " [559 398 595 ...   0   0   0]]\n",
      "['map_2d']\n",
      "VOC PASCAL mAP: 0.2693600058555603\n",
      "VOC PASCAL mAP in all points: 0.28260165452957153\n",
      "COCO mAP: 0.18100401759147644\n"
     ]
    }
   ],
   "source": [
    "%run AP.py"
   ]
  },
  {
   "cell_type": "code",
   "execution_count": 10,
   "id": "329ea886",
   "metadata": {},
   "outputs": [
    {
     "name": "stdout",
     "output_type": "stream",
     "text": [
      "[[  1 228   6 ...   0   0   0]\n",
      " [  5 228  28 ...   0   0   0]\n",
      " [ 30 238  46 ...   0   0   0]\n",
      " ...\n",
      " [331 849 356 ...   0   0   0]\n",
      " [162 888 177 ...   0   0   0]\n",
      " [559 398 595 ...   0   0   0]]\n",
      "['map_2d']\n",
      "VOC PASCAL mAP: 0.5273846387863159\n",
      "VOC PASCAL mAP in all points: 0.5313354730606079\n",
      "COCO mAP: 0.3215162456035614\n"
     ]
    }
   ],
   "source": [
    "%run AP.py"
   ]
  },
  {
   "cell_type": "code",
   "execution_count": 11,
   "id": "92eeb012",
   "metadata": {},
   "outputs": [
    {
     "name": "stdout",
     "output_type": "stream",
     "text": [
      "[[  1 228   6 ...   0   0   0]\n",
      " [  5 228  28 ...   0   0   0]\n",
      " [ 30 238  46 ...   0   0   0]\n",
      " ...\n",
      " [331 849 356 ...   0   0   0]\n",
      " [162 888 177 ...   0   0   0]\n",
      " [559 398 595 ...   0   0   0]]\n",
      "['map_2d']\n",
      "VOC PASCAL mAP: 0.6099413633346558\n",
      "VOC PASCAL mAP in all points: 0.6426693797111511\n",
      "COCO mAP: 0.3796376585960388\n"
     ]
    }
   ],
   "source": [
    "%run AP.py"
   ]
  },
  {
   "cell_type": "code",
   "execution_count": 12,
   "id": "bfec2086",
   "metadata": {},
   "outputs": [
    {
     "name": "stdout",
     "output_type": "stream",
     "text": [
      "[[  1 228   6 ...   0   0   0]\n",
      " [  5 228  28 ...   0   0   0]\n",
      " [ 30 238  46 ...   0   0   0]\n",
      " ...\n",
      " [331 849 356 ...   0   0   0]\n",
      " [162 888 177 ...   0   0   0]\n",
      " [559 398 595 ...   0   0   0]]\n",
      "['map_2d']\n",
      "VOC PASCAL mAP: 0.7583919763565063\n",
      "VOC PASCAL mAP in all points: 0.7619953751564026\n",
      "COCO mAP: 0.4396994709968567\n"
     ]
    }
   ],
   "source": [
    "%run AP.py"
   ]
  },
  {
   "cell_type": "code",
   "execution_count": 13,
   "id": "4e05576f",
   "metadata": {},
   "outputs": [
    {
     "name": "stdout",
     "output_type": "stream",
     "text": [
      "[[  1 228   6 ...   0   0   0]\n",
      " [  5 228  28 ...   0   0   0]\n",
      " [ 30 238  46 ...   0   0   0]\n",
      " ...\n",
      " [331 849 356 ...   0   0   0]\n",
      " [162 888 177 ...   0   0   0]\n",
      " [559 398 595 ...   0   0   0]]\n",
      "['map_2d']\n",
      "VOC PASCAL mAP: 0.18113034963607788\n",
      "VOC PASCAL mAP in all points: 0.10480492562055588\n",
      "COCO mAP: 0.07310657948255539\n"
     ]
    }
   ],
   "source": [
    "%run AP.py"
   ]
  },
  {
   "cell_type": "code",
   "execution_count": 16,
   "id": "fe1d9afb",
   "metadata": {},
   "outputs": [
    {
     "name": "stdout",
     "output_type": "stream",
     "text": [
      "[[  1 228   6 ...   0   0   0]\n",
      " [  5 228  28 ...   0   0   0]\n",
      " [ 30 238  46 ...   0   0   0]\n",
      " ...\n",
      " [331 849 356 ...   0   0   0]\n",
      " [162 888 177 ...   0   0   0]\n",
      " [559 398 595 ...   0   0   0]]\n",
      "['map_2d']\n",
      "VOC PASCAL mAP: 0.18113034963607788\n",
      "VOC PASCAL mAP in all points: 0.10480492562055588\n",
      "COCO mAP: 0.07310657948255539\n"
     ]
    }
   ],
   "source": [
    "%run AP.py"
   ]
  },
  {
   "cell_type": "code",
   "execution_count": 17,
   "id": "42850dc6",
   "metadata": {},
   "outputs": [
    {
     "name": "stdout",
     "output_type": "stream",
     "text": [
      "hi\n"
     ]
    }
   ],
   "source": [
    "print(\"hi\")"
   ]
  },
  {
   "cell_type": "code",
   "execution_count": null,
   "id": "87d0ee8f",
   "metadata": {},
   "outputs": [],
   "source": []
  }
 ],
 "metadata": {
  "kernelspec": {
   "display_name": "Python 3",
   "language": "python",
   "name": "python3"
  },
  "language_info": {
   "codemirror_mode": {
    "name": "ipython",
    "version": 3
   },
   "file_extension": ".py",
   "mimetype": "text/x-python",
   "name": "python",
   "nbconvert_exporter": "python",
   "pygments_lexer": "ipython3",
   "version": "3.8.8"
  }
 },
 "nbformat": 4,
 "nbformat_minor": 5
}
